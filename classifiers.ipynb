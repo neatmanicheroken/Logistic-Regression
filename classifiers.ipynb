{
 "cells": [
  {
   "cell_type": "code",
   "execution_count": 2,
   "metadata": {
    "ExecuteTime": {
     "end_time": "2019-11-04T14:17:18.546009Z",
     "start_time": "2019-11-04T14:17:17.716475Z"
    }
   },
   "outputs": [],
   "source": [
    "import matplotlib.pyplot as plt\n",
    "import numpy as np\n",
    "\n",
    "plt.rc('text', usetex=True)\n",
    "plt.rc('font', family='serif')\n",
    "plt.rc('axes', labelsize=20, titlesize=20, labelpad=8)\n",
    "plt.rc('xtick', labelsize=12)\n",
    "plt.rc('ytick', labelsize=12)\n",
    "\n",
    "# plot layout\n",
    "box_params = {'fontsize': 20,\n",
    "              'bbox': {'boxstyle': 'round', 'color': 'k',\n",
    "                       'fill': True, 'alpha': 0.7}}"
   ]
  },
  {
   "cell_type": "code",
   "execution_count": 3,
   "metadata": {
    "ExecuteTime": {
     "end_time": "2019-11-04T14:17:21.440564Z",
     "start_time": "2019-11-04T14:17:18.549558Z"
    }
   },
   "outputs": [
    {
     "data": {
      "image/png": "[encoded data removed]",
      "text/plain": [
       "<Figure size 288x144 with 1 Axes>"
      ]
     },
     "metadata": {
      "needs_background": "light"
     },
     "output_type": "display_data"
    }
   ],
   "source": [
    "x = np.linspace(-10, 10, 1000)\n",
    "\n",
    "y1 = 0.5 * (np.sign(x)+1)\n",
    "y2 = 1/(1 + np.exp(-x))\n",
    "\n",
    "fig = plt.figure(figsize=(4,2))\n",
    "plt.plot(x, y1, 'r--', label=r'$\\Theta(s)$')\n",
    "plt.plot(x, y2, 'b:', label=r'$\\sigma(s)$')\n",
    "\n",
    "plt.xlabel('$s$')\n",
    "plt.ylabel(r'output($s$)')\n",
    "plt.legend(loc='lower right', fancybox=True, fontsize=15)\n",
    "\n",
    "plt.tight_layout()\n",
    "plt.savefig('classifiers.png', dpi=400)\n"
   ]
  }
 ],
 "metadata": {
  "kernelspec": {
   "display_name": "Python 3",
   "language": "python",
   "name": "python3"
  },
  "language_info": {
   "codemirror_mode": {
    "name": "ipython",
    "version": 3
   },
   "file_extension": ".py",
   "mimetype": "text/x-python",
   "name": "python",
   "nbconvert_exporter": "python",
   "pygments_lexer": "ipython3",
   "version": "3.7.4"
  }
 },
 "nbformat": 4,
 "nbformat_minor": 2
}
